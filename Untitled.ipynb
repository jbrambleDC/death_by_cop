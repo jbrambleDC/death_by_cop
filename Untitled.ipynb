{
 "cells": [
  {
   "cell_type": "code",
   "execution_count": 1,
   "metadata": {
    "collapsed": true
   },
   "outputs": [],
   "source": [
    "import pandas as pd"
   ]
  },
  {
   "cell_type": "code",
   "execution_count": 2,
   "metadata": {
    "collapsed": true
   },
   "outputs": [],
   "source": [
    "df = pd.read_csv('KBP-2013-14-15-FULL-DFE.csv')"
   ]
  },
  {
   "cell_type": "code",
   "execution_count": 3,
   "metadata": {
    "collapsed": false
   },
   "outputs": [
    {
     "data": {
      "text/html": [
       "<div>\n",
       "<table border=\"1\" class=\"dataframe\">\n",
       "  <thead>\n",
       "    <tr style=\"text-align: right;\">\n",
       "      <th></th>\n",
       "      <th>Name</th>\n",
       "      <th>Cause of Death</th>\n",
       "      <th>Date of Death</th>\n",
       "      <th>State</th>\n",
       "      <th>City</th>\n",
       "      <th>Gender</th>\n",
       "      <th>Age</th>\n",
       "      <th>Race</th>\n",
       "      <th>Photo</th>\n",
       "      <th>News Story</th>\n",
       "      <th>Month of Death</th>\n",
       "      <th>Year of Death</th>\n",
       "      <th>Was the deceased armed?</th>\n",
       "      <th>Did the deceased have priors?</th>\n",
       "      <th>Was the officer involved fired or suspended?</th>\n",
       "    </tr>\n",
       "  </thead>\n",
       "  <tbody>\n",
       "    <tr>\n",
       "      <th>0</th>\n",
       "      <td>Aaron Alexis</td>\n",
       "      <td>Shooting</td>\n",
       "      <td>16/09/2013</td>\n",
       "      <td>Texas</td>\n",
       "      <td>Fort Worth, Texas</td>\n",
       "      <td>Male</td>\n",
       "      <td>34</td>\n",
       "      <td>Black</td>\n",
       "      <td>http://www.killedbypolice.net/victims/130475.jpg</td>\n",
       "      <td>http://www.washingtonpost.com/politics/aaron-a...</td>\n",
       "      <td>September 2013</td>\n",
       "      <td>2013</td>\n",
       "      <td>Yes</td>\n",
       "      <td>Yes</td>\n",
       "      <td>Unclear</td>\n",
       "    </tr>\n",
       "    <tr>\n",
       "      <th>1</th>\n",
       "      <td>Aaron McDaniels</td>\n",
       "      <td>Shooting</td>\n",
       "      <td>20/08/2013</td>\n",
       "      <td>Pennsylvania</td>\n",
       "      <td>North Philadelphia, Pennsylvania</td>\n",
       "      <td>Male</td>\n",
       "      <td>19</td>\n",
       "      <td>Unknown</td>\n",
       "      <td>NaN</td>\n",
       "      <td>http://www.nbcphiladelphia.com/news/local/Man-...</td>\n",
       "      <td>August 2013</td>\n",
       "      <td>2013</td>\n",
       "      <td>Yes</td>\n",
       "      <td>Yes</td>\n",
       "      <td>Yes</td>\n",
       "    </tr>\n",
       "    <tr>\n",
       "      <th>2</th>\n",
       "      <td>Abdul Kamal</td>\n",
       "      <td>Shooting</td>\n",
       "      <td>11/11/2013</td>\n",
       "      <td>New Jersey</td>\n",
       "      <td>NaN</td>\n",
       "      <td>Male</td>\n",
       "      <td>30</td>\n",
       "      <td>Black</td>\n",
       "      <td>http://www.killedbypolice.net/victims/130638.jpg</td>\n",
       "      <td>http://www.dailyjournal.net/view/story/a4d38b3...</td>\n",
       "      <td>November 2013</td>\n",
       "      <td>2013</td>\n",
       "      <td>Unclear</td>\n",
       "      <td>Unclear</td>\n",
       "      <td>Unclear</td>\n",
       "    </tr>\n",
       "    <tr>\n",
       "      <th>3</th>\n",
       "      <td>Adam Ignatz Bosch</td>\n",
       "      <td>Shooting</td>\n",
       "      <td>07/07/2013</td>\n",
       "      <td>California</td>\n",
       "      <td>NaN</td>\n",
       "      <td>Male</td>\n",
       "      <td>29</td>\n",
       "      <td>White</td>\n",
       "      <td>http://www.killedbypolice.net/victims/130255.jpg</td>\n",
       "      <td>http://www.pe.com/local-news/riverside-county/...</td>\n",
       "      <td>July 2013</td>\n",
       "      <td>2013</td>\n",
       "      <td>Unclear</td>\n",
       "      <td>Unclear</td>\n",
       "      <td>Unclear</td>\n",
       "    </tr>\n",
       "    <tr>\n",
       "      <th>4</th>\n",
       "      <td>Adolfo Ramirez</td>\n",
       "      <td>Shooting</td>\n",
       "      <td>23/11/2013</td>\n",
       "      <td>California</td>\n",
       "      <td>Riverside, California</td>\n",
       "      <td>Male</td>\n",
       "      <td>37</td>\n",
       "      <td>Latino</td>\n",
       "      <td>NaN</td>\n",
       "      <td>http://www.nbclosangeles.com/news/local/Office...</td>\n",
       "      <td>November 2013</td>\n",
       "      <td>2013</td>\n",
       "      <td>Yes</td>\n",
       "      <td>Unclear</td>\n",
       "      <td>Unclear</td>\n",
       "    </tr>\n",
       "  </tbody>\n",
       "</table>\n",
       "</div>"
      ],
      "text/plain": [
       "                Name Cause of Death Date of Death         State  \\\n",
       "0       Aaron Alexis       Shooting    16/09/2013         Texas   \n",
       "1    Aaron McDaniels       Shooting    20/08/2013  Pennsylvania   \n",
       "2        Abdul Kamal       Shooting    11/11/2013    New Jersey   \n",
       "3  Adam Ignatz Bosch       Shooting    07/07/2013    California   \n",
       "4     Adolfo Ramirez       Shooting    23/11/2013    California   \n",
       "\n",
       "                               City Gender  Age     Race  \\\n",
       "0                 Fort Worth, Texas   Male   34    Black   \n",
       "1  North Philadelphia, Pennsylvania   Male   19  Unknown   \n",
       "2                               NaN   Male   30    Black   \n",
       "3                               NaN   Male   29    White   \n",
       "4             Riverside, California   Male   37   Latino   \n",
       "\n",
       "                                              Photo  \\\n",
       "0  http://www.killedbypolice.net/victims/130475.jpg   \n",
       "1                                               NaN   \n",
       "2  http://www.killedbypolice.net/victims/130638.jpg   \n",
       "3  http://www.killedbypolice.net/victims/130255.jpg   \n",
       "4                                               NaN   \n",
       "\n",
       "                                          News Story  Month of Death  \\\n",
       "0  http://www.washingtonpost.com/politics/aaron-a...  September 2013   \n",
       "1  http://www.nbcphiladelphia.com/news/local/Man-...     August 2013   \n",
       "2  http://www.dailyjournal.net/view/story/a4d38b3...   November 2013   \n",
       "3  http://www.pe.com/local-news/riverside-county/...       July 2013   \n",
       "4  http://www.nbclosangeles.com/news/local/Office...   November 2013   \n",
       "\n",
       "   Year of Death Was the deceased armed? Did the deceased have priors?  \\\n",
       "0           2013                     Yes                           Yes   \n",
       "1           2013                     Yes                           Yes   \n",
       "2           2013                 Unclear                       Unclear   \n",
       "3           2013                 Unclear                       Unclear   \n",
       "4           2013                     Yes                       Unclear   \n",
       "\n",
       "  Was the officer involved fired or suspended?  \n",
       "0                                      Unclear  \n",
       "1                                          Yes  \n",
       "2                                      Unclear  \n",
       "3                                      Unclear  \n",
       "4                                      Unclear  "
      ]
     },
     "execution_count": 3,
     "metadata": {},
     "output_type": "execute_result"
    }
   ],
   "source": [
    "df.head()"
   ]
  },
  {
   "cell_type": "code",
   "execution_count": 5,
   "metadata": {
    "collapsed": false
   },
   "outputs": [
    {
     "data": {
      "text/plain": [
       "Year of Death  Race            \n",
       "2013           Asian                10\n",
       "               Black               176\n",
       "               Latino              111\n",
       "               Native American       2\n",
       "               Other                 4\n",
       "               Unknown             208\n",
       "               White               262\n",
       "2014           Asian                11\n",
       "               Black               214\n",
       "               Latino              139\n",
       "               Native American      10\n",
       "               Other                 1\n",
       "               Unknown             388\n",
       "               White               334\n",
       "2015           Asian                 6\n",
       "               Black               121\n",
       "               Latino               69\n",
       "               Native American       4\n",
       "               Other                 3\n",
       "               Pacific Islander      3\n",
       "               Unknown             107\n",
       "               White               170\n",
       "dtype: int64"
      ]
     },
     "execution_count": 5,
     "metadata": {},
     "output_type": "execute_result"
    }
   ],
   "source": [
    "df.groupby(['Year of Death','Race']).size()"
   ]
  },
  {
   "cell_type": "code",
   "execution_count": null,
   "metadata": {
    "collapsed": true
   },
   "outputs": [],
   "source": []
  }
 ],
 "metadata": {
  "kernelspec": {
   "display_name": "Python 2",
   "language": "python",
   "name": "python2"
  },
  "language_info": {
   "codemirror_mode": {
    "name": "ipython",
    "version": 2
   },
   "file_extension": ".py",
   "mimetype": "text/x-python",
   "name": "python",
   "nbconvert_exporter": "python",
   "pygments_lexer": "ipython2",
   "version": "2.7.6"
  }
 },
 "nbformat": 4,
 "nbformat_minor": 0
}
